{
 "cells": [
  {
   "cell_type": "code",
   "execution_count": 1,
   "metadata": {},
   "outputs": [
    {
     "name": "stdout",
     "output_type": "stream",
     "text": [
      "https://www.mouthshut.com/cars-suvs/Nissan-Terrano-XL-Plus-ICC-WT20-SE-reviews-925815477-page-2\n",
      "https://www.mouthshut.com/cars-suvs/Nissan-Terrano-XL-Plus-ICC-WT20-SE-reviews-925815477-page-3\n",
      "https://www.mouthshut.com/cars-suvs/Nissan-Terrano-XL-Plus-ICC-WT20-SE-reviews-925815477-page-4\n",
      "https://www.mouthshut.com/cars-suvs/Nissan-Terrano-XL-Plus-ICC-WT20-SE-reviews-925815477-page-5\n",
      "https://www.mouthshut.com/cars-suvs/Nissan-Terrano-XL-Plus-ICC-WT20-SE-reviews-925815477-page-6\n"
     ]
    }
   ],
   "source": [
    "path = ['https://www.mouthshut.com/cars-suvs/Nissan-Terrano-XL-Plus-ICC-WT20-SE-reviews-925815477-srch']\n",
    "for i in range (2,7):\n",
    "    st= 'https://www.mouthshut.com/cars-suvs/Nissan-Terrano-XL-Plus-ICC-WT20-SE-reviews-925815477-page-'+str(i)\n",
    "    path.append(st)\n",
    "    print (st)"
   ]
  },
  {
   "cell_type": "code",
   "execution_count": null,
   "metadata": {},
   "outputs": [],
   "source": [
    "response.xpath('//*[@id=\"totcont\"]/*[@class=\"container box-module ofinherit\"]/*[@class=\"custom-body\"]/*[@class=\"wrapper\"]/*[@class=\"left-panel\"]/*[@class=\"read-review-holder\"]/*[@class=\"row review-article\"]/*[@class=\"row\"]/*[@class=\"col-10 review\"]/*[@class=\"more reviewdata\"]//text()').extract()\n",
    "\n"
   ]
  },
  {
   "cell_type": "code",
   "execution_count": null,
   "metadata": {},
   "outputs": [],
   "source": [
    "t = []\n",
    "for  i in response.xpath('//*[@id=\"totcont\"]/*[@class=\"container box-module ofinherit\"]/*[@class=\"custom-body\"]/*[@class=\"wrapper\"]/*[@class=\"left-panel\"]/*[@class=\"read-review-holder\"]/*[@class=\"row revew-article\"]/*[@class=\"row\"]/*[@class=\"col-10 review\"]/*[@class=\"more reviewdata\"]//text()'):\n",
    "    t.append(i.extract())\n",
    "\n",
    "for i in range(40):\n",
    "    t.remove('Read More')\n"
   ]
  },
  {
   "cell_type": "code",
   "execution_count": null,
   "metadata": {},
   "outputs": [],
   "source": [
    "response.xpath('//*[@id=\"totcont\"]/*[@class=\"container box-module ofinherit\"]/*[@class=\"custom-body\"]/*[@class=\"wrapper\"]/*[@class=\"left-panel\"]/*[@class=\"read-review-holder\"]/*[@class=\"row review-article\"]/*[@class=\"row\"]/*[@class=\"col-10 review\"]/*[@class=\"more reviewdata\"]//text()').extract()\n"
   ]
  },
  {
   "cell_type": "code",
   "execution_count": null,
   "metadata": {},
   "outputs": [],
   "source": [
    "q = []\n",
    "for f in response.xpath('//*[@id=\"totcont\"]/*[@class=\"container box-module ofinherit\"]/*[@class=\"custom-body\"]/*[@class=\"wrapper\"]/*[@class=\"left-panel\"]/*[@class=\"read-review-holder\"]/*[@class=\"row review-article\"]/*[@class=\"row\"]/*[@class=\"col-10 review\"]/*[@class=\"rating\"]//span//i[@class=\"icon-rating unrated-star\"]|//i[@class=\"icon-rating rated-star\"]'):\n",
    "    q.append( f.extract())\n",
    "print(len(q))"
   ]
  },
  {
   "cell_type": "code",
   "execution_count": null,
   "metadata": {},
   "outputs": [],
   "source": [
    "t =[]\n",
    "for  i in range(0,len(q),5):\n",
    "    t.append(''.join(q[i:i+5]))\n",
    "\n",
    "for i in range(0,20):\n",
    "    t[i] = int(5-t[i].count('unrated'))\n",
    "    "
   ]
  },
  {
   "cell_type": "code",
   "execution_count": null,
   "metadata": {},
   "outputs": [],
   "source": [
    "map(str.strip, response.xpath('//*[@id=\"totcont\"]/*[@class=\"container box-module ofinherit\"]/*[@class=\"custom-body\"]/*[@class=\"wrapper\"]/*[@class=\"left-panel\"]/*[@class=\"read-review-holder\"]/*[@class=\"row review-article\"]/*[@class=\"row\"]/*[@class=\"col-10 review\"]/*[@class=\"more reviewdata\"]//text()').extract())    \n",
    "response.xpath('normalize-space(//*[@id=\"totcont\"]/*[@class=\"container box-module ofinherit\"]/*[@class=\"custom-body\"]/*[@class=\"wrapper\"]/*[@class=\"left-panel\"]/*[@class=\"read-review-holder\"]/*[@class=\"row review-article\"]/*[@class=\"row\"]/*[@class=\"col-10 review\"]/*[@class=\"more reviewdata\"]//text())').extract()  \n",
    "\n"
   ]
  }
 ],
 "metadata": {
  "kernelspec": {
   "display_name": "Python 3",
   "language": "python",
   "name": "python3"
  },
  "language_info": {
   "codemirror_mode": {
    "name": "ipython",
    "version": 3
   },
   "file_extension": ".py",
   "mimetype": "text/x-python",
   "name": "python",
   "nbconvert_exporter": "python",
   "pygments_lexer": "ipython3",
   "version": "3.7.0"
  }
 },
 "nbformat": 4,
 "nbformat_minor": 2
}
